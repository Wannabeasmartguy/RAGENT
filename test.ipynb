{
 "cells": [
  {
   "cell_type": "code",
   "execution_count": 10,
   "metadata": {},
   "outputs": [],
   "source": [
    "import os\n",
    "from autogen.oai import OpenAIWrapper\n",
    "import dotenv\n",
    "\n",
    "dotenv.load_dotenv()\n",
    "\n",
    "client = OpenAIWrapper(api_key=os.getenv('AZURE_OAI_KEY'),\n",
    "                        base_url=os.getenv('AZURE_OAI_ENDPOINT'),\n",
    "                        api_version=os.getenv('API_VERSION'),\n",
    "                        api_type=os.getenv('API_TYPE'))\n",
    "\n",
    "response = client.create(messages=[{\"role\": \"user\", \"content\": \"2+2=\"},{\"role\": \"assistant\", \"content\": \"4\"},{\"role\": \"user\", \"content\": \"Can you give me a joke?\"}], model=\"gpt-3.5-turbo\")"
   ]
  },
  {
   "cell_type": "code",
   "execution_count": 11,
   "metadata": {},
   "outputs": [
    {
     "data": {
      "text/plain": [
       "[\"Sure, here's a joke for you: \\n\\nWhy don't skeletons fight each other? They don't have the guts.\"]"
      ]
     },
     "execution_count": 11,
     "metadata": {},
     "output_type": "execute_result"
    }
   ],
   "source": [
    "client.extract_text_or_completion_object(response)"
   ]
  }
 ],
 "metadata": {
  "kernelspec": {
   "display_name": "RAGenT",
   "language": "python",
   "name": "ragent_test"
  },
  "language_info": {
   "codemirror_mode": {
    "name": "ipython",
    "version": 3
   },
   "file_extension": ".py",
   "mimetype": "text/x-python",
   "name": "python",
   "nbconvert_exporter": "python",
   "pygments_lexer": "ipython3",
   "version": "3.10.12"
  }
 },
 "nbformat": 4,
 "nbformat_minor": 2
}
